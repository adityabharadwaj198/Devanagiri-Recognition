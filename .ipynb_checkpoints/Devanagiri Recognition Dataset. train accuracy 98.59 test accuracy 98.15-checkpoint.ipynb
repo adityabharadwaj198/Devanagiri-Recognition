{
 "cells": [
  {
   "cell_type": "code",
   "execution_count": null,
   "metadata": {},
   "outputs": [],
   "source": [
    "from keras.preprocessing.image import ImageDataGenerator\n",
    "from keras.models import Sequential\n",
    "from keras.layers import Conv2D, MaxPooling2D\n",
    "from keras.layers import Activation, Dropout, Flatten, Dense\n",
    "from keras import backend as K\n"
   ]
  },
  {
   "cell_type": "code",
   "execution_count": 11,
   "metadata": {},
   "outputs": [],
   "source": [
    "datagen = ImageDataGenerator()"
   ]
  },
  {
   "cell_type": "code",
   "execution_count": 13,
   "metadata": {},
   "outputs": [
    {
     "name": "stdout",
     "output_type": "stream",
     "text": [
      "Found 78200 images belonging to 46 classes.\n"
     ]
    }
   ],
   "source": [
    "train_it = datagen.flow_from_directory('/home/aditya/devanagari/Train', class_mode='binary')"
   ]
  },
  {
   "cell_type": "code",
   "execution_count": 14,
   "metadata": {},
   "outputs": [
    {
     "name": "stdout",
     "output_type": "stream",
     "text": [
      "Found 13800 images belonging to 46 classes.\n"
     ]
    }
   ],
   "source": [
    "test_it = datagen.flow_from_directory('/home/aditya/devanagari/Test')"
   ]
  },
  {
   "cell_type": "code",
   "execution_count": null,
   "metadata": {},
   "outputs": [],
   "source": [
    "import os\n",
    "import pandas as pd\n",
    "BASE_DIR = '/home/aditya/devanagari/'\n",
    "train_folder = BASE_DIR + 'Train/'\n",
    "test_folder = BASE_DIR + 'Test/'\n",
    "files_in_train = sorted(os.listdir(train_folder))\n",
    "files_in_test = sorted(os.listdir(test_folder))\n",
    "images=[i for i in files_in_train if i in files_in_annotated]\n",
    "df = pd.DataFrame()\n",
    "df['images']=[train_folder+str(x) for x in images]\n",
    "df['labels']=[train_annotation+str(x) for x in images]\n",
    "\n",
    "pd.to_csv('final.csv', header=None)"
   ]
  }
 ],
 "metadata": {
  "kernelspec": {
   "display_name": "Python 3",
   "language": "python",
   "name": "python3"
  },
  "language_info": {
   "codemirror_mode": {
    "name": "ipython",
    "version": 3
   },
   "file_extension": ".py",
   "mimetype": "text/x-python",
   "name": "python",
   "nbconvert_exporter": "python",
   "pygments_lexer": "ipython3",
   "version": "3.6.7"
  }
 },
 "nbformat": 4,
 "nbformat_minor": 2
}
